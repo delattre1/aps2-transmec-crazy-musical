{
 "cells": [
  {
   "cell_type": "code",
   "execution_count": 1,
   "id": "5d5220b0",
   "metadata": {},
   "outputs": [],
   "source": [
    "##APS 2 - Dani e Timão\n",
    "\n",
    "#Daniel Costa\n",
    "#Guilherme Chaves\n"
   ]
  },
  {
   "cell_type": "code",
   "execution_count": 2,
   "id": "7146c34d",
   "metadata": {},
   "outputs": [],
   "source": [
    "import numpy as np\n",
    "import matplotlib.pyplot as plt"
   ]
  },
  {
   "cell_type": "code",
   "execution_count": null,
   "id": "2ec1fc9f",
   "metadata": {},
   "outputs": [],
   "source": []
  }
 ],
 "metadata": {
  "kernelspec": {
   "display_name": "Python 3 (ipykernel)",
   "language": "python",
   "name": "python3"
  },
  "language_info": {
   "codemirror_mode": {
    "name": "ipython",
    "version": 3
   },
   "file_extension": ".py",
   "mimetype": "text/x-python",
   "name": "python",
   "nbconvert_exporter": "python",
   "pygments_lexer": "ipython3",
   "version": "3.9.7"
  }
 },
 "nbformat": 4,
 "nbformat_minor": 5
}
