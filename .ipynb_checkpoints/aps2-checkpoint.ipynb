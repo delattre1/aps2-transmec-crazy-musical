{
 "cells": [
  {
   "cell_type": "code",
   "execution_count": 81,
   "id": "ae1b6455",
   "metadata": {},
   "outputs": [],
   "source": [
    "##APS 2 - Dani e Timão\n",
    "\n",
    "#Daniel Costa\n",
    "#Guilherme Chaves\n"
   ]
  },
  {
   "cell_type": "code",
   "execution_count": 82,
   "id": "cbeaafd0",
   "metadata": {},
   "outputs": [],
   "source": [
    "import numpy as np\n",
    "import matplotlib.pyplot as plt\n",
    "from math import pi, sqrt, sinh"
   ]
  },
  {
   "cell_type": "code",
   "execution_count": 92,
   "id": "37c50115",
   "metadata": {},
   "outputs": [],
   "source": [
    "#dados do enunciado\n",
    "tolerancia       = 1e-10   #?\n",
    "L                = 0.3     #m\n",
    "D                = 0.005   #m diametro\n",
    "raio             = D/2\n",
    "densidade        = 2700    #kg/m³\n",
    "condutividade    = 180     #W/mK  k \n",
    "calor_especifico = 896     #J/kgK\n",
    "\n",
    "perimetro = 2*pi*raio\n",
    "area      = pi*(raio**2)"
   ]
  },
  {
   "cell_type": "code",
   "execution_count": 93,
   "id": "1c866283",
   "metadata": {},
   "outputs": [],
   "source": [
    "Te  = 25  #extremidade ºC\n",
    "Tb  = 100 #Temperatura base ºC\n",
    "Ta  = 25  #temperatura ambiente\n",
    "h   = 100 #W/m²K coeficiente convecção\n"
   ]
  },
  {
   "cell_type": "code",
   "execution_count": 94,
   "id": "5bcd5f43",
   "metadata": {},
   "outputs": [],
   "source": [
    "dx = 300e-3/10 \n",
    "alpha = condutividade/(densidade*calor_especifico)  # difusividade térmica  [m2/s]\n"
   ]
  },
  {
   "cell_type": "code",
   "execution_count": 95,
   "id": "69793ff5",
   "metadata": {},
   "outputs": [],
   "source": [
    "dt = (dx**2)/(alpha*((h*perimetro*(dx**2))/(condutividade*area)+2))\n",
    "# intervalo espacial\n",
    "\n",
    "x = np.arange(0, L+dx, dx) \n",
    "t = np.arange(0, 1000+dt, dt) "
   ]
  },
  {
   "cell_type": "code",
   "execution_count": 96,
   "id": "3d992df2",
   "metadata": {},
   "outputs": [
    {
     "data": {
      "text/plain": [
       "array([[100.,  25.,  25., ...,  25.,  25.,  25.],\n",
       "       [100.,  25.,  25., ...,  25.,  25.,  25.],\n",
       "       [100.,  25.,  25., ...,  25.,  25.,  25.],\n",
       "       ...,\n",
       "       [100.,  25.,  25., ...,  25.,  25.,  25.],\n",
       "       [100.,  25.,  25., ...,  25.,  25.,  25.],\n",
       "       [100.,  25.,  25., ...,  25.,  25.,  25.]])"
      ]
     },
     "execution_count": 96,
     "metadata": {},
     "output_type": "execute_result"
    }
   ],
   "source": [
    "#Temperatura\n",
    "T = np.zeros((len(t),len(x))) # matriz[l][i]\n",
    "T[:,0] = T[-1] = Tb\n",
    "T[:,1:len(x)] = Ta\n",
    "\n",
    "T"
   ]
  },
  {
   "cell_type": "code",
   "execution_count": 97,
   "id": "65a0d343",
   "metadata": {},
   "outputs": [],
   "source": [
    "erro_final = 100\n",
    "for l in range(1, len(t)):\n",
    "    for i in range(1, len(x) -1):\n",
    "        T[l,i] = (alpha*dt/dx**2)*(T[l-1,i+1] - 2*T[l-1,i] + T[l-1,i-1]) - ((h*perimetro*alpha*dt)/(condutividade*area))*(T[l-1,i] - Ta) +T[l-1,i]\n",
    "    erro_final = max(abs((T[l,1:-1] - T[l-1,1:-1])/T[l,1:-1]))\n",
    "\n",
    "    if erro_final<tolerancia:\n",
    "        break"
   ]
  },
  {
   "cell_type": "markdown",
   "id": "e353ad57",
   "metadata": {},
   "source": [
    "# 2)"
   ]
  },
  {
   "cell_type": "code",
   "execution_count": 98,
   "id": "22f83d31",
   "metadata": {},
   "outputs": [
    {
     "data": {
      "image/png": "[encoded data removed]",
      "text/plain": [
       "<Figure size 432x288 with 1 Axes>"
      ]
     },
     "metadata": {
      "needs_background": "light"
     },
     "output_type": "display_data"
    }
   ],
   "source": [
    "plt.plot(x, T[l])\n",
    "plt.title(\"Temp x Posicão\")\n",
    "plt.xlabel(\"x [M]\")\n",
    "plt.ylabel(\"T [°C]\")\n",
    "plt.show()"
   ]
  },
  {
   "cell_type": "code",
   "execution_count": null,
   "id": "6a8e539e",
   "metadata": {},
   "outputs": [],
   "source": []
  },
  {
   "cell_type": "code",
   "execution_count": null,
   "id": "d61c0e54",
   "metadata": {},
   "outputs": [],
   "source": []
  },
  {
   "cell_type": "code",
   "execution_count": null,
   "id": "4766db35",
   "metadata": {},
   "outputs": [],
   "source": []
  },
  {
   "cell_type": "code",
   "execution_count": 102,
   "id": "fee67643",
   "metadata": {},
   "outputs": [
    {
     "data": {
      "text/plain": [
       "0.0"
      ]
     },
     "execution_count": 102,
     "metadata": {},
     "output_type": "execute_result"
    }
   ],
   "source": [
    "m = sqrt((h*perimetro)/(condutividade*area))\n",
    "teta_l = 25 - Ta\n",
    "teta_b = Tb - Ta\n",
    "teta_l/teta_b"
   ]
  },
  {
   "cell_type": "code",
   "execution_count": 103,
   "id": "8a09885f",
   "metadata": {},
   "outputs": [],
   "source": [
    "T2 = []\n",
    "for i in range(len(x)):\n",
    "    eq = (teta_l*sinh(m*x[i])+ teta_b*sinh(m*(L-x[i])))/(sinh(m*L)) + Ta      \n",
    "    T2.append(eq)"
   ]
  },
  {
   "cell_type": "markdown",
   "id": "b36be044",
   "metadata": {},
   "source": [
    "# 3"
   ]
  },
  {
   "cell_type": "code",
   "execution_count": 104,
   "id": "3152b8bb",
   "metadata": {},
   "outputs": [
    {
     "data": {
      "image/png": "[encoded data removed]",
      "text/plain": [
       "<Figure size 432x288 with 1 Axes>"
      ]
     },
     "metadata": {
      "needs_background": "light"
     },
     "output_type": "display_data"
    }
   ],
   "source": [
    "plt.plot(x, T2)\n",
    "plt.title(\"Temperatura x Posição - Comparativo\")\n",
    "plt.xlabel(\"x [m]\")\n",
    "plt.ylabel(\"T [°C]\")\n",
    "plt.show()"
   ]
  },
  {
   "cell_type": "code",
   "execution_count": null,
   "id": "a59a6119",
   "metadata": {},
   "outputs": [],
   "source": []
  },
  {
   "cell_type": "code",
   "execution_count": null,
   "id": "7b0e979f",
   "metadata": {},
   "outputs": [],
   "source": []
  },
  {
   "cell_type": "code",
   "execution_count": null,
   "id": "5a27008d",
   "metadata": {},
   "outputs": [],
   "source": []
  },
  {
   "cell_type": "code",
   "execution_count": null,
   "id": "f8eab855",
   "metadata": {},
   "outputs": [],
   "source": []
  },
  {
   "cell_type": "code",
   "execution_count": null,
   "id": "5b6d6db9",
   "metadata": {},
   "outputs": [],
   "source": []
  },
  {
   "cell_type": "code",
   "execution_count": null,
   "id": "b009ebe9",
   "metadata": {},
   "outputs": [],
   "source": []
  },
  {
   "cell_type": "code",
   "execution_count": null,
   "id": "ce5c60ea",
   "metadata": {},
   "outputs": [],
   "source": []
  },
  {
   "cell_type": "code",
   "execution_count": null,
   "id": "af440f12",
   "metadata": {},
   "outputs": [],
   "source": []
  },
  {
   "cell_type": "code",
   "execution_count": null,
   "id": "9391d153",
   "metadata": {},
   "outputs": [],
   "source": []
  }
 ],
 "metadata": {
  "kernelspec": {
   "display_name": "Python 3 (ipykernel)",
   "language": "python",
   "name": "python3"
  },
  "language_info": {
   "codemirror_mode": {
    "name": "ipython",
    "version": 3
   },
   "file_extension": ".py",
   "mimetype": "text/x-python",
   "name": "python",
   "nbconvert_exporter": "python",
   "pygments_lexer": "ipython3",
   "version": "3.9.7"
  }
 },
 "nbformat": 4,
 "nbformat_minor": 5
}
