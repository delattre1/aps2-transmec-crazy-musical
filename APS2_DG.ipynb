{
 "cells": [
  {
   "cell_type": "markdown",
   "metadata": {},
   "source": [
    "# APS 2 de TRANSFERÊNCIA DE CALOR E MECÂNICA DOS SÓLIDOS \n",
    "\n",
    "### ALunos: Daniel Delattre & Guilherme Carvalho \n"
   ]
  },
  {
   "cell_type": "code",
   "execution_count": 24,
   "metadata": {},
   "outputs": [],
   "source": [
    "import numpy as np\n",
    "from matplotlib import pyplot as plt\n",
    "from math import *\n",
    "from numpy import *"
   ]
  },
  {
   "cell_type": "markdown",
   "metadata": {},
   "source": [
    "## Formularizando ( atividade 1 )"
   ]
  },
  {
   "cell_type": "markdown",
   "metadata": {},
   "source": [
    "![](formula1.png)"
   ]
  },
  {
   "cell_type": "markdown",
   "metadata": {},
   "source": [
    "![](atv1.jpeg)"
   ]
  },
  {
   "cell_type": "markdown",
   "metadata": {},
   "source": [
    "## Atividade 2 "
   ]
  },
  {
   "cell_type": "code",
   "execution_count": 25,
   "metadata": {},
   "outputs": [],
   "source": [
    "#dados do enunciado\n",
    "tolerancia       = 1e-10   #?\n",
    "L                = 0.3     #m\n",
    "D                = 0.005   #m diametro\n",
    "raio             = D/2\n",
    "densidade        = 2700    #kg/m³\n",
    "condutividade    = 180     #W/mK  k \n",
    "calor_especifico = 896     #J/kgK\n",
    "\n",
    "perimetro = 2*pi*raio\n",
    "area      = pi*(raio**2)"
   ]
  },
  {
   "cell_type": "code",
   "execution_count": 26,
   "metadata": {},
   "outputs": [],
   "source": [
    "Te  = 25  #extremidade ºC\n",
    "Tb  = 100 #Temperatura base ºC\n",
    "Ta  = 25  #temperatura ambiente\n",
    "h   = 100 #W/m²K coeficiente convecção"
   ]
  },
  {
   "cell_type": "code",
   "execution_count": 27,
   "metadata": {},
   "outputs": [],
   "source": [
    "dx = 300e-3/10 \n",
    "alpha = condutividade/(densidade*calor_especifico)  # difusividade térmica  [m2/s]\n"
   ]
  },
  {
   "cell_type": "code",
   "execution_count": 28,
   "metadata": {},
   "outputs": [
    {
     "name": "stdout",
     "output_type": "stream",
     "text": [
      "11\n",
      "200\n"
     ]
    }
   ],
   "source": [
    "dt = (dx**2)/(alpha*((h*perimetro*(dx**2))/(condutividade*area)+2))\n",
    "# intervalo espacial\n",
    "\n",
    "x = np.arange(0, L+dx, dx) \n",
    "t = np.arange(0, 1000+dt, dt) \n",
    "print(len(x))\n",
    "print(len(t))"
   ]
  },
  {
   "cell_type": "code",
   "execution_count": 29,
   "metadata": {},
   "outputs": [],
   "source": [
    "#Temperatura\n",
    "T = np.zeros((200,11)) #criando matriz de zeros\n",
    "T[:,0] = T[-1] = Tb\n",
    "T[:,1:len(x)] = Ta"
   ]
  },
  {
   "cell_type": "code",
   "execution_count": 30,
   "metadata": {},
   "outputs": [],
   "source": [
    "erro = 100\n",
    "for l in range(1, len(t)):\n",
    "    for i in range(1, len(x) -1):\n",
    "        T[l,i] = (alpha*dt/dx**2)*(T[l-1,i+1] - 2*T[l-1,i] + T[l-1,i-1]) - ((h*perimetro*alpha*dt)/(condutividade*area))*(T[l-1,i] - Ta) +T[l-1,i]\n",
    "    erro = max(abs((T[l,1:-1] - T[l-1,1:-1])/T[l,1:-1]))\n",
    "\n",
    "    if erro<tolerancia:\n",
    "        break"
   ]
  },
  {
   "cell_type": "code",
   "execution_count": 34,
   "metadata": {},
   "outputs": [
    {
     "data": {
      "image/png": "[encoded data removed]",
      "text/plain": [
       "<Figure size 432x288 with 1 Axes>"
      ]
     },
     "metadata": {
      "needs_background": "light"
     },
     "output_type": "display_data"
    }
   ],
   "source": [
    "plt.plot(x, T[l],\"r\")\n",
    "plt.title(\"Temp x Posicão\")\n",
    "plt.xlabel(\"x [M]\")\n",
    "plt.ylabel(\"T [°C]\")\n",
    "plt.show()"
   ]
  },
  {
   "cell_type": "markdown",
   "metadata": {},
   "source": [
    "## Atividade 3 "
   ]
  },
  {
   "cell_type": "code",
   "execution_count": 35,
   "metadata": {},
   "outputs": [
    {
     "data": {
      "image/png": "[encoded data removed]",
      "text/plain": [
       "<Figure size 432x288 with 1 Axes>"
      ]
     },
     "metadata": {
      "needs_background": "light"
     },
     "output_type": "display_data"
    }
   ],
   "source": [
    "m = sqrt((h*perimetro)/(condutividade*area))\n",
    "teta_l = 25 - Ta\n",
    "teta_b = Tb - Ta\n",
    "teta_l/teta_b\n",
    "\n",
    "\n",
    "T2 = []\n",
    "for i in range(len(x)):\n",
    "    eq = (teta_l*sinh(m*x[i])+ teta_b*sinh(m*(L-x[i])))/(sinh(m*L)) + Ta      \n",
    "    T2.append(eq)\n",
    "\n",
    "\n",
    "plt.plot(x, T2,\"r\")\n",
    "plt.title(\"Temperatura x Posição - Comparativo\")\n",
    "plt.xlabel(\"x [m]\")\n",
    "plt.ylabel(\"T [°C]\")\n",
    "plt.show()"
   ]
  },
  {
   "cell_type": "code",
   "execution_count": null,
   "metadata": {},
   "outputs": [],
   "source": []
  },
  {
   "cell_type": "code",
   "execution_count": null,
   "metadata": {},
   "outputs": [],
   "source": []
  }
 ],
 "metadata": {
  "kernelspec": {
   "display_name": "Python 3",
   "language": "python",
   "name": "python3"
  },
  "language_info": {
   "codemirror_mode": {
    "name": "ipython",
    "version": 3
   },
   "file_extension": ".py",
   "mimetype": "text/x-python",
   "name": "python",
   "nbconvert_exporter": "python",
   "pygments_lexer": "ipython3",
   "version": "3.8.10"
  }
 },
 "nbformat": 4,
 "nbformat_minor": 4
}
